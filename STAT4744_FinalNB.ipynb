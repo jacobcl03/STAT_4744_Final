{
  "nbformat": 4,
  "nbformat_minor": 0,
  "metadata": {
    "colab": {
      "provenance": [],
      "gpuType": "T4"
    },
    "kernelspec": {
      "name": "python3",
      "display_name": "Python 3"
    },
    "language_info": {
      "name": "python"
    },
    "accelerator": "GPU"
  },
  "cells": [
    {
      "cell_type": "code",
      "execution_count": 1,
      "metadata": {
        "id": "D3l30qqka2nq"
      },
      "outputs": [],
      "source": [
        "import pandas as pd\n",
        "import numpy as np\n",
        "import matplotlib.pyplot as plt\n",
        "import seaborn as sns\n",
        "import scipy.stats as stats\n",
        "import torch\n",
        "import torch.nn as nn\n",
        "import torch.nn.functional as F\n",
        "import torch.optim as optim\n",
        "from torch.utils.data import Dataset, DataLoader, TensorDataset\n",
        "from sklearn.model_selection import train_test_split\n",
        "from sklearn.preprocessing import StandardScaler\n",
        "import time\n",
        "from tqdm import tqdm\n",
        "\n",
        "\n",
        "seed = 1872 #gokies"
      ]
    },
    {
      "cell_type": "markdown",
      "source": [
        "Loading data through google colab"
      ],
      "metadata": {
        "id": "ZtI2lpFnbHhF"
      }
    },
    {
      "cell_type": "code",
      "source": [
        "from google.colab import drive\n",
        "drive.mount('/content/drive', force_remount=True)\n",
        "\n"
      ],
      "metadata": {
        "colab": {
          "base_uri": "https://localhost:8080/"
        },
        "id": "1fXbPfvubKDy",
        "outputId": "10d8c7d6-439f-4fd2-f956-64fd66c201e4"
      },
      "execution_count": 2,
      "outputs": [
        {
          "output_type": "stream",
          "name": "stdout",
          "text": [
            "Mounted at /content/drive\n"
          ]
        }
      ]
    },
    {
      "cell_type": "code",
      "source": [
        "file_path = '/content/drive/MyDrive/STAT4744_Final/CombinedData.csv'\n",
        "data = pd.read_csv(file_path)\n",
        "data.head()"
      ],
      "metadata": {
        "id": "TMT3FF2DcdWP",
        "colab": {
          "base_uri": "https://localhost:8080/",
          "height": 206
        },
        "outputId": "12d5a8af-364f-4301-9c2c-a6f96ead303a"
      },
      "execution_count": 4,
      "outputs": [
        {
          "output_type": "execute_result",
          "data": {
            "text/plain": [
              "   Unnamed: 0                                          statement   status\n",
              "0           0                                         oh my gosh  Anxiety\n",
              "1           1  trouble sleeping, confused mind, restless hear...  Anxiety\n",
              "2           2  All wrong, back off dear, forward doubt. Stay ...  Anxiety\n",
              "3           3  I've shifted my focus to something else but I'...  Anxiety\n",
              "4           4  I'm restless and restless, it's been a month n...  Anxiety"
            ],
            "text/html": [
              "\n",
              "  <div id=\"df-8d6c9264-7303-4f0d-b598-b73774f3bbba\" class=\"colab-df-container\">\n",
              "    <div>\n",
              "<style scoped>\n",
              "    .dataframe tbody tr th:only-of-type {\n",
              "        vertical-align: middle;\n",
              "    }\n",
              "\n",
              "    .dataframe tbody tr th {\n",
              "        vertical-align: top;\n",
              "    }\n",
              "\n",
              "    .dataframe thead th {\n",
              "        text-align: right;\n",
              "    }\n",
              "</style>\n",
              "<table border=\"1\" class=\"dataframe\">\n",
              "  <thead>\n",
              "    <tr style=\"text-align: right;\">\n",
              "      <th></th>\n",
              "      <th>Unnamed: 0</th>\n",
              "      <th>statement</th>\n",
              "      <th>status</th>\n",
              "    </tr>\n",
              "  </thead>\n",
              "  <tbody>\n",
              "    <tr>\n",
              "      <th>0</th>\n",
              "      <td>0</td>\n",
              "      <td>oh my gosh</td>\n",
              "      <td>Anxiety</td>\n",
              "    </tr>\n",
              "    <tr>\n",
              "      <th>1</th>\n",
              "      <td>1</td>\n",
              "      <td>trouble sleeping, confused mind, restless hear...</td>\n",
              "      <td>Anxiety</td>\n",
              "    </tr>\n",
              "    <tr>\n",
              "      <th>2</th>\n",
              "      <td>2</td>\n",
              "      <td>All wrong, back off dear, forward doubt. Stay ...</td>\n",
              "      <td>Anxiety</td>\n",
              "    </tr>\n",
              "    <tr>\n",
              "      <th>3</th>\n",
              "      <td>3</td>\n",
              "      <td>I've shifted my focus to something else but I'...</td>\n",
              "      <td>Anxiety</td>\n",
              "    </tr>\n",
              "    <tr>\n",
              "      <th>4</th>\n",
              "      <td>4</td>\n",
              "      <td>I'm restless and restless, it's been a month n...</td>\n",
              "      <td>Anxiety</td>\n",
              "    </tr>\n",
              "  </tbody>\n",
              "</table>\n",
              "</div>\n",
              "    <div class=\"colab-df-buttons\">\n",
              "\n",
              "  <div class=\"colab-df-container\">\n",
              "    <button class=\"colab-df-convert\" onclick=\"convertToInteractive('df-8d6c9264-7303-4f0d-b598-b73774f3bbba')\"\n",
              "            title=\"Convert this dataframe to an interactive table.\"\n",
              "            style=\"display:none;\">\n",
              "\n",
              "  <svg xmlns=\"http://www.w3.org/2000/svg\" height=\"24px\" viewBox=\"0 -960 960 960\">\n",
              "    <path d=\"M120-120v-720h720v720H120Zm60-500h600v-160H180v160Zm220 220h160v-160H400v160Zm0 220h160v-160H400v160ZM180-400h160v-160H180v160Zm440 0h160v-160H620v160ZM180-180h160v-160H180v160Zm440 0h160v-160H620v160Z\"/>\n",
              "  </svg>\n",
              "    </button>\n",
              "\n",
              "  <style>\n",
              "    .colab-df-container {\n",
              "      display:flex;\n",
              "      gap: 12px;\n",
              "    }\n",
              "\n",
              "    .colab-df-convert {\n",
              "      background-color: #E8F0FE;\n",
              "      border: none;\n",
              "      border-radius: 50%;\n",
              "      cursor: pointer;\n",
              "      display: none;\n",
              "      fill: #1967D2;\n",
              "      height: 32px;\n",
              "      padding: 0 0 0 0;\n",
              "      width: 32px;\n",
              "    }\n",
              "\n",
              "    .colab-df-convert:hover {\n",
              "      background-color: #E2EBFA;\n",
              "      box-shadow: 0px 1px 2px rgba(60, 64, 67, 0.3), 0px 1px 3px 1px rgba(60, 64, 67, 0.15);\n",
              "      fill: #174EA6;\n",
              "    }\n",
              "\n",
              "    .colab-df-buttons div {\n",
              "      margin-bottom: 4px;\n",
              "    }\n",
              "\n",
              "    [theme=dark] .colab-df-convert {\n",
              "      background-color: #3B4455;\n",
              "      fill: #D2E3FC;\n",
              "    }\n",
              "\n",
              "    [theme=dark] .colab-df-convert:hover {\n",
              "      background-color: #434B5C;\n",
              "      box-shadow: 0px 1px 3px 1px rgba(0, 0, 0, 0.15);\n",
              "      filter: drop-shadow(0px 1px 2px rgba(0, 0, 0, 0.3));\n",
              "      fill: #FFFFFF;\n",
              "    }\n",
              "  </style>\n",
              "\n",
              "    <script>\n",
              "      const buttonEl =\n",
              "        document.querySelector('#df-8d6c9264-7303-4f0d-b598-b73774f3bbba button.colab-df-convert');\n",
              "      buttonEl.style.display =\n",
              "        google.colab.kernel.accessAllowed ? 'block' : 'none';\n",
              "\n",
              "      async function convertToInteractive(key) {\n",
              "        const element = document.querySelector('#df-8d6c9264-7303-4f0d-b598-b73774f3bbba');\n",
              "        const dataTable =\n",
              "          await google.colab.kernel.invokeFunction('convertToInteractive',\n",
              "                                                    [key], {});\n",
              "        if (!dataTable) return;\n",
              "\n",
              "        const docLinkHtml = 'Like what you see? Visit the ' +\n",
              "          '<a target=\"_blank\" href=https://colab.research.google.com/notebooks/data_table.ipynb>data table notebook</a>'\n",
              "          + ' to learn more about interactive tables.';\n",
              "        element.innerHTML = '';\n",
              "        dataTable['output_type'] = 'display_data';\n",
              "        await google.colab.output.renderOutput(dataTable, element);\n",
              "        const docLink = document.createElement('div');\n",
              "        docLink.innerHTML = docLinkHtml;\n",
              "        element.appendChild(docLink);\n",
              "      }\n",
              "    </script>\n",
              "  </div>\n",
              "\n",
              "\n",
              "    <div id=\"df-239c8ada-2d76-4cd6-96b5-b7548a093cd6\">\n",
              "      <button class=\"colab-df-quickchart\" onclick=\"quickchart('df-239c8ada-2d76-4cd6-96b5-b7548a093cd6')\"\n",
              "                title=\"Suggest charts\"\n",
              "                style=\"display:none;\">\n",
              "\n",
              "<svg xmlns=\"http://www.w3.org/2000/svg\" height=\"24px\"viewBox=\"0 0 24 24\"\n",
              "     width=\"24px\">\n",
              "    <g>\n",
              "        <path d=\"M19 3H5c-1.1 0-2 .9-2 2v14c0 1.1.9 2 2 2h14c1.1 0 2-.9 2-2V5c0-1.1-.9-2-2-2zM9 17H7v-7h2v7zm4 0h-2V7h2v10zm4 0h-2v-4h2v4z\"/>\n",
              "    </g>\n",
              "</svg>\n",
              "      </button>\n",
              "\n",
              "<style>\n",
              "  .colab-df-quickchart {\n",
              "      --bg-color: #E8F0FE;\n",
              "      --fill-color: #1967D2;\n",
              "      --hover-bg-color: #E2EBFA;\n",
              "      --hover-fill-color: #174EA6;\n",
              "      --disabled-fill-color: #AAA;\n",
              "      --disabled-bg-color: #DDD;\n",
              "  }\n",
              "\n",
              "  [theme=dark] .colab-df-quickchart {\n",
              "      --bg-color: #3B4455;\n",
              "      --fill-color: #D2E3FC;\n",
              "      --hover-bg-color: #434B5C;\n",
              "      --hover-fill-color: #FFFFFF;\n",
              "      --disabled-bg-color: #3B4455;\n",
              "      --disabled-fill-color: #666;\n",
              "  }\n",
              "\n",
              "  .colab-df-quickchart {\n",
              "    background-color: var(--bg-color);\n",
              "    border: none;\n",
              "    border-radius: 50%;\n",
              "    cursor: pointer;\n",
              "    display: none;\n",
              "    fill: var(--fill-color);\n",
              "    height: 32px;\n",
              "    padding: 0;\n",
              "    width: 32px;\n",
              "  }\n",
              "\n",
              "  .colab-df-quickchart:hover {\n",
              "    background-color: var(--hover-bg-color);\n",
              "    box-shadow: 0 1px 2px rgba(60, 64, 67, 0.3), 0 1px 3px 1px rgba(60, 64, 67, 0.15);\n",
              "    fill: var(--button-hover-fill-color);\n",
              "  }\n",
              "\n",
              "  .colab-df-quickchart-complete:disabled,\n",
              "  .colab-df-quickchart-complete:disabled:hover {\n",
              "    background-color: var(--disabled-bg-color);\n",
              "    fill: var(--disabled-fill-color);\n",
              "    box-shadow: none;\n",
              "  }\n",
              "\n",
              "  .colab-df-spinner {\n",
              "    border: 2px solid var(--fill-color);\n",
              "    border-color: transparent;\n",
              "    border-bottom-color: var(--fill-color);\n",
              "    animation:\n",
              "      spin 1s steps(1) infinite;\n",
              "  }\n",
              "\n",
              "  @keyframes spin {\n",
              "    0% {\n",
              "      border-color: transparent;\n",
              "      border-bottom-color: var(--fill-color);\n",
              "      border-left-color: var(--fill-color);\n",
              "    }\n",
              "    20% {\n",
              "      border-color: transparent;\n",
              "      border-left-color: var(--fill-color);\n",
              "      border-top-color: var(--fill-color);\n",
              "    }\n",
              "    30% {\n",
              "      border-color: transparent;\n",
              "      border-left-color: var(--fill-color);\n",
              "      border-top-color: var(--fill-color);\n",
              "      border-right-color: var(--fill-color);\n",
              "    }\n",
              "    40% {\n",
              "      border-color: transparent;\n",
              "      border-right-color: var(--fill-color);\n",
              "      border-top-color: var(--fill-color);\n",
              "    }\n",
              "    60% {\n",
              "      border-color: transparent;\n",
              "      border-right-color: var(--fill-color);\n",
              "    }\n",
              "    80% {\n",
              "      border-color: transparent;\n",
              "      border-right-color: var(--fill-color);\n",
              "      border-bottom-color: var(--fill-color);\n",
              "    }\n",
              "    90% {\n",
              "      border-color: transparent;\n",
              "      border-bottom-color: var(--fill-color);\n",
              "    }\n",
              "  }\n",
              "</style>\n",
              "\n",
              "      <script>\n",
              "        async function quickchart(key) {\n",
              "          const quickchartButtonEl =\n",
              "            document.querySelector('#' + key + ' button');\n",
              "          quickchartButtonEl.disabled = true;  // To prevent multiple clicks.\n",
              "          quickchartButtonEl.classList.add('colab-df-spinner');\n",
              "          try {\n",
              "            const charts = await google.colab.kernel.invokeFunction(\n",
              "                'suggestCharts', [key], {});\n",
              "          } catch (error) {\n",
              "            console.error('Error during call to suggestCharts:', error);\n",
              "          }\n",
              "          quickchartButtonEl.classList.remove('colab-df-spinner');\n",
              "          quickchartButtonEl.classList.add('colab-df-quickchart-complete');\n",
              "        }\n",
              "        (() => {\n",
              "          let quickchartButtonEl =\n",
              "            document.querySelector('#df-239c8ada-2d76-4cd6-96b5-b7548a093cd6 button');\n",
              "          quickchartButtonEl.style.display =\n",
              "            google.colab.kernel.accessAllowed ? 'block' : 'none';\n",
              "        })();\n",
              "      </script>\n",
              "    </div>\n",
              "\n",
              "    </div>\n",
              "  </div>\n"
            ],
            "application/vnd.google.colaboratory.intrinsic+json": {
              "type": "dataframe",
              "variable_name": "data",
              "summary": "{\n  \"name\": \"data\",\n  \"rows\": 53043,\n  \"fields\": [\n    {\n      \"column\": \"Unnamed: 0\",\n      \"properties\": {\n        \"dtype\": \"number\",\n        \"std\": 15312,\n        \"min\": 0,\n        \"max\": 53042,\n        \"num_unique_values\": 53043,\n        \"samples\": [\n          22261,\n          41400,\n          20065\n        ],\n        \"semantic_type\": \"\",\n        \"description\": \"\"\n      }\n    },\n    {\n      \"column\": \"statement\",\n      \"properties\": {\n        \"dtype\": \"string\",\n        \"num_unique_values\": 51073,\n        \"samples\": [\n          \"he's been a chain smoker for 30 years.\",\n          \"Dependence on therapist I attend IOP groups and individual therapy sessions at the same place, my therapist who I have worked with on and off for a year and a couple months just told me today that she is leaving soon and I am heartbroken. I love my therapist and I don't know how I am going to keep progressing without her. There will be a replacement for her but idk what to do, I don't want a different therapist. :(\",\n          \"These feelings constantly come back. Someone from my past that hurt me came back a month ago and once again disrespected me and i just feel like shit. Idk why these feelings keep resurfacing but it just hurts. I do not want to be over dramatic but Its hurts when you were nothing but loving/kind to someone and they disrespect you. I just hate feeling like this, feeling like i cannot trust anyone or that no one would ever truly love me unless i have something to offer. I am always worried about my looks and its just making me depressed. I really do not feel like i fit in with the world I am just here. Idk what my next step should be to get help but I am really going through it. (Yes I am in therapy) but how do i help myself ? I have been depressed/anxious for years and most day i do not even leave my house. But nobody around me seems to care and honestly I am tired of feeling this way. But at the same time i do not want to give up on myself bc i feel like I am here to be somebody great. I am just trying to find my way right now. It keeps coming back\"\n        ],\n        \"semantic_type\": \"\",\n        \"description\": \"\"\n      }\n    },\n    {\n      \"column\": \"status\",\n      \"properties\": {\n        \"dtype\": \"category\",\n        \"num_unique_values\": 7,\n        \"samples\": [\n          \"Anxiety\",\n          \"Normal\",\n          \"Bipolar\"\n        ],\n        \"semantic_type\": \"\",\n        \"description\": \"\"\n      }\n    }\n  ]\n}"
            }
          },
          "metadata": {},
          "execution_count": 4
        }
      ]
    },
    {
      "cell_type": "code",
      "source": [
        "print(data.shape)\n",
        "data['status'].value_counts()"
      ],
      "metadata": {
        "colab": {
          "base_uri": "https://localhost:8080/",
          "height": 352
        },
        "id": "VY70N5UUU0jM",
        "outputId": "37123368-42b4-4be7-acfd-d1972bd38363"
      },
      "execution_count": 5,
      "outputs": [
        {
          "output_type": "stream",
          "name": "stdout",
          "text": [
            "(53043, 3)\n"
          ]
        },
        {
          "output_type": "execute_result",
          "data": {
            "text/plain": [
              "status\n",
              "Normal                  16351\n",
              "Depression              15404\n",
              "Suicidal                10653\n",
              "Anxiety                  3888\n",
              "Bipolar                  2877\n",
              "Stress                   2669\n",
              "Personality disorder     1201\n",
              "Name: count, dtype: int64"
            ],
            "text/html": [
              "<div>\n",
              "<style scoped>\n",
              "    .dataframe tbody tr th:only-of-type {\n",
              "        vertical-align: middle;\n",
              "    }\n",
              "\n",
              "    .dataframe tbody tr th {\n",
              "        vertical-align: top;\n",
              "    }\n",
              "\n",
              "    .dataframe thead th {\n",
              "        text-align: right;\n",
              "    }\n",
              "</style>\n",
              "<table border=\"1\" class=\"dataframe\">\n",
              "  <thead>\n",
              "    <tr style=\"text-align: right;\">\n",
              "      <th></th>\n",
              "      <th>count</th>\n",
              "    </tr>\n",
              "    <tr>\n",
              "      <th>status</th>\n",
              "      <th></th>\n",
              "    </tr>\n",
              "  </thead>\n",
              "  <tbody>\n",
              "    <tr>\n",
              "      <th>Normal</th>\n",
              "      <td>16351</td>\n",
              "    </tr>\n",
              "    <tr>\n",
              "      <th>Depression</th>\n",
              "      <td>15404</td>\n",
              "    </tr>\n",
              "    <tr>\n",
              "      <th>Suicidal</th>\n",
              "      <td>10653</td>\n",
              "    </tr>\n",
              "    <tr>\n",
              "      <th>Anxiety</th>\n",
              "      <td>3888</td>\n",
              "    </tr>\n",
              "    <tr>\n",
              "      <th>Bipolar</th>\n",
              "      <td>2877</td>\n",
              "    </tr>\n",
              "    <tr>\n",
              "      <th>Stress</th>\n",
              "      <td>2669</td>\n",
              "    </tr>\n",
              "    <tr>\n",
              "      <th>Personality disorder</th>\n",
              "      <td>1201</td>\n",
              "    </tr>\n",
              "  </tbody>\n",
              "</table>\n",
              "</div><br><label><b>dtype:</b> int64</label>"
            ]
          },
          "metadata": {},
          "execution_count": 5
        }
      ]
    },
    {
      "cell_type": "markdown",
      "source": [
        "# Data Preprocessing"
      ],
      "metadata": {
        "id": "cGnY2jg2fIT6"
      }
    },
    {
      "cell_type": "markdown",
      "source": [
        "##Data cleaning\n",
        "Steps below to clean and tokenize our statements, serving as the predictor."
      ],
      "metadata": {
        "id": "W6KY0l_rg9Fy"
      }
    },
    {
      "cell_type": "code",
      "source": [
        "import string\n",
        "#vector op for lower case\n",
        "data['cleaned_statement'] = data['statement'].str.lower()\n",
        "data.head()\n",
        "#removing punctuation\n",
        "data['cleaned_statement'] = data['cleaned_statement'].str.replace('[^\\w\\s]', '', regex = True)\n",
        "#remove digits\n",
        "data['cleaned_statement'] = data['cleaned_statement'].str.replace(r'[^A-Za-z\\s]|\\d', '', regex = True)\n"
      ],
      "metadata": {
        "id": "yGcShk0b2sE_"
      },
      "execution_count": 6,
      "outputs": []
    },
    {
      "cell_type": "markdown",
      "source": [
        "Mapping our response variable to integer values"
      ],
      "metadata": {
        "id": "5fgNa96nnpNk"
      }
    },
    {
      "cell_type": "code",
      "source": [
        "status_map = {\"Normal\": 0, \"Depression\":1, \"Suicidal\":2, \"Anxiety\":3, \"Bipolar\":4, \"Stress\":5, \"Personality disorder\":6}\n",
        "num_classes = len(status_map)\n",
        "data['status_encoded'] = data['status'].map(status_map)\n",
        "data.head()"
      ],
      "metadata": {
        "colab": {
          "base_uri": "https://localhost:8080/",
          "height": 206
        },
        "id": "ge40vl-mnqvX",
        "outputId": "9d3bdc25-248c-491a-db9c-d56d1ef4ee07"
      },
      "execution_count": 7,
      "outputs": [
        {
          "output_type": "execute_result",
          "data": {
            "text/plain": [
              "   Unnamed: 0                                          statement   status  \\\n",
              "0           0                                         oh my gosh  Anxiety   \n",
              "1           1  trouble sleeping, confused mind, restless hear...  Anxiety   \n",
              "2           2  All wrong, back off dear, forward doubt. Stay ...  Anxiety   \n",
              "3           3  I've shifted my focus to something else but I'...  Anxiety   \n",
              "4           4  I'm restless and restless, it's been a month n...  Anxiety   \n",
              "\n",
              "                                   cleaned_statement  status_encoded  \n",
              "0                                         oh my gosh               3  \n",
              "1  trouble sleeping confused mind restless heart ...               3  \n",
              "2  all wrong back off dear forward doubt stay in ...               3  \n",
              "3  ive shifted my focus to something else but im ...               3  \n",
              "4  im restless and restless its been a month now ...               3  "
            ],
            "text/html": [
              "\n",
              "  <div id=\"df-23782d85-d890-4d6a-8c42-86385ddbaf91\" class=\"colab-df-container\">\n",
              "    <div>\n",
              "<style scoped>\n",
              "    .dataframe tbody tr th:only-of-type {\n",
              "        vertical-align: middle;\n",
              "    }\n",
              "\n",
              "    .dataframe tbody tr th {\n",
              "        vertical-align: top;\n",
              "    }\n",
              "\n",
              "    .dataframe thead th {\n",
              "        text-align: right;\n",
              "    }\n",
              "</style>\n",
              "<table border=\"1\" class=\"dataframe\">\n",
              "  <thead>\n",
              "    <tr style=\"text-align: right;\">\n",
              "      <th></th>\n",
              "      <th>Unnamed: 0</th>\n",
              "      <th>statement</th>\n",
              "      <th>status</th>\n",
              "      <th>cleaned_statement</th>\n",
              "      <th>status_encoded</th>\n",
              "    </tr>\n",
              "  </thead>\n",
              "  <tbody>\n",
              "    <tr>\n",
              "      <th>0</th>\n",
              "      <td>0</td>\n",
              "      <td>oh my gosh</td>\n",
              "      <td>Anxiety</td>\n",
              "      <td>oh my gosh</td>\n",
              "      <td>3</td>\n",
              "    </tr>\n",
              "    <tr>\n",
              "      <th>1</th>\n",
              "      <td>1</td>\n",
              "      <td>trouble sleeping, confused mind, restless hear...</td>\n",
              "      <td>Anxiety</td>\n",
              "      <td>trouble sleeping confused mind restless heart ...</td>\n",
              "      <td>3</td>\n",
              "    </tr>\n",
              "    <tr>\n",
              "      <th>2</th>\n",
              "      <td>2</td>\n",
              "      <td>All wrong, back off dear, forward doubt. Stay ...</td>\n",
              "      <td>Anxiety</td>\n",
              "      <td>all wrong back off dear forward doubt stay in ...</td>\n",
              "      <td>3</td>\n",
              "    </tr>\n",
              "    <tr>\n",
              "      <th>3</th>\n",
              "      <td>3</td>\n",
              "      <td>I've shifted my focus to something else but I'...</td>\n",
              "      <td>Anxiety</td>\n",
              "      <td>ive shifted my focus to something else but im ...</td>\n",
              "      <td>3</td>\n",
              "    </tr>\n",
              "    <tr>\n",
              "      <th>4</th>\n",
              "      <td>4</td>\n",
              "      <td>I'm restless and restless, it's been a month n...</td>\n",
              "      <td>Anxiety</td>\n",
              "      <td>im restless and restless its been a month now ...</td>\n",
              "      <td>3</td>\n",
              "    </tr>\n",
              "  </tbody>\n",
              "</table>\n",
              "</div>\n",
              "    <div class=\"colab-df-buttons\">\n",
              "\n",
              "  <div class=\"colab-df-container\">\n",
              "    <button class=\"colab-df-convert\" onclick=\"convertToInteractive('df-23782d85-d890-4d6a-8c42-86385ddbaf91')\"\n",
              "            title=\"Convert this dataframe to an interactive table.\"\n",
              "            style=\"display:none;\">\n",
              "\n",
              "  <svg xmlns=\"http://www.w3.org/2000/svg\" height=\"24px\" viewBox=\"0 -960 960 960\">\n",
              "    <path d=\"M120-120v-720h720v720H120Zm60-500h600v-160H180v160Zm220 220h160v-160H400v160Zm0 220h160v-160H400v160ZM180-400h160v-160H180v160Zm440 0h160v-160H620v160ZM180-180h160v-160H180v160Zm440 0h160v-160H620v160Z\"/>\n",
              "  </svg>\n",
              "    </button>\n",
              "\n",
              "  <style>\n",
              "    .colab-df-container {\n",
              "      display:flex;\n",
              "      gap: 12px;\n",
              "    }\n",
              "\n",
              "    .colab-df-convert {\n",
              "      background-color: #E8F0FE;\n",
              "      border: none;\n",
              "      border-radius: 50%;\n",
              "      cursor: pointer;\n",
              "      display: none;\n",
              "      fill: #1967D2;\n",
              "      height: 32px;\n",
              "      padding: 0 0 0 0;\n",
              "      width: 32px;\n",
              "    }\n",
              "\n",
              "    .colab-df-convert:hover {\n",
              "      background-color: #E2EBFA;\n",
              "      box-shadow: 0px 1px 2px rgba(60, 64, 67, 0.3), 0px 1px 3px 1px rgba(60, 64, 67, 0.15);\n",
              "      fill: #174EA6;\n",
              "    }\n",
              "\n",
              "    .colab-df-buttons div {\n",
              "      margin-bottom: 4px;\n",
              "    }\n",
              "\n",
              "    [theme=dark] .colab-df-convert {\n",
              "      background-color: #3B4455;\n",
              "      fill: #D2E3FC;\n",
              "    }\n",
              "\n",
              "    [theme=dark] .colab-df-convert:hover {\n",
              "      background-color: #434B5C;\n",
              "      box-shadow: 0px 1px 3px 1px rgba(0, 0, 0, 0.15);\n",
              "      filter: drop-shadow(0px 1px 2px rgba(0, 0, 0, 0.3));\n",
              "      fill: #FFFFFF;\n",
              "    }\n",
              "  </style>\n",
              "\n",
              "    <script>\n",
              "      const buttonEl =\n",
              "        document.querySelector('#df-23782d85-d890-4d6a-8c42-86385ddbaf91 button.colab-df-convert');\n",
              "      buttonEl.style.display =\n",
              "        google.colab.kernel.accessAllowed ? 'block' : 'none';\n",
              "\n",
              "      async function convertToInteractive(key) {\n",
              "        const element = document.querySelector('#df-23782d85-d890-4d6a-8c42-86385ddbaf91');\n",
              "        const dataTable =\n",
              "          await google.colab.kernel.invokeFunction('convertToInteractive',\n",
              "                                                    [key], {});\n",
              "        if (!dataTable) return;\n",
              "\n",
              "        const docLinkHtml = 'Like what you see? Visit the ' +\n",
              "          '<a target=\"_blank\" href=https://colab.research.google.com/notebooks/data_table.ipynb>data table notebook</a>'\n",
              "          + ' to learn more about interactive tables.';\n",
              "        element.innerHTML = '';\n",
              "        dataTable['output_type'] = 'display_data';\n",
              "        await google.colab.output.renderOutput(dataTable, element);\n",
              "        const docLink = document.createElement('div');\n",
              "        docLink.innerHTML = docLinkHtml;\n",
              "        element.appendChild(docLink);\n",
              "      }\n",
              "    </script>\n",
              "  </div>\n",
              "\n",
              "\n",
              "    <div id=\"df-40109d53-6376-4fc2-afde-cb81330db359\">\n",
              "      <button class=\"colab-df-quickchart\" onclick=\"quickchart('df-40109d53-6376-4fc2-afde-cb81330db359')\"\n",
              "                title=\"Suggest charts\"\n",
              "                style=\"display:none;\">\n",
              "\n",
              "<svg xmlns=\"http://www.w3.org/2000/svg\" height=\"24px\"viewBox=\"0 0 24 24\"\n",
              "     width=\"24px\">\n",
              "    <g>\n",
              "        <path d=\"M19 3H5c-1.1 0-2 .9-2 2v14c0 1.1.9 2 2 2h14c1.1 0 2-.9 2-2V5c0-1.1-.9-2-2-2zM9 17H7v-7h2v7zm4 0h-2V7h2v10zm4 0h-2v-4h2v4z\"/>\n",
              "    </g>\n",
              "</svg>\n",
              "      </button>\n",
              "\n",
              "<style>\n",
              "  .colab-df-quickchart {\n",
              "      --bg-color: #E8F0FE;\n",
              "      --fill-color: #1967D2;\n",
              "      --hover-bg-color: #E2EBFA;\n",
              "      --hover-fill-color: #174EA6;\n",
              "      --disabled-fill-color: #AAA;\n",
              "      --disabled-bg-color: #DDD;\n",
              "  }\n",
              "\n",
              "  [theme=dark] .colab-df-quickchart {\n",
              "      --bg-color: #3B4455;\n",
              "      --fill-color: #D2E3FC;\n",
              "      --hover-bg-color: #434B5C;\n",
              "      --hover-fill-color: #FFFFFF;\n",
              "      --disabled-bg-color: #3B4455;\n",
              "      --disabled-fill-color: #666;\n",
              "  }\n",
              "\n",
              "  .colab-df-quickchart {\n",
              "    background-color: var(--bg-color);\n",
              "    border: none;\n",
              "    border-radius: 50%;\n",
              "    cursor: pointer;\n",
              "    display: none;\n",
              "    fill: var(--fill-color);\n",
              "    height: 32px;\n",
              "    padding: 0;\n",
              "    width: 32px;\n",
              "  }\n",
              "\n",
              "  .colab-df-quickchart:hover {\n",
              "    background-color: var(--hover-bg-color);\n",
              "    box-shadow: 0 1px 2px rgba(60, 64, 67, 0.3), 0 1px 3px 1px rgba(60, 64, 67, 0.15);\n",
              "    fill: var(--button-hover-fill-color);\n",
              "  }\n",
              "\n",
              "  .colab-df-quickchart-complete:disabled,\n",
              "  .colab-df-quickchart-complete:disabled:hover {\n",
              "    background-color: var(--disabled-bg-color);\n",
              "    fill: var(--disabled-fill-color);\n",
              "    box-shadow: none;\n",
              "  }\n",
              "\n",
              "  .colab-df-spinner {\n",
              "    border: 2px solid var(--fill-color);\n",
              "    border-color: transparent;\n",
              "    border-bottom-color: var(--fill-color);\n",
              "    animation:\n",
              "      spin 1s steps(1) infinite;\n",
              "  }\n",
              "\n",
              "  @keyframes spin {\n",
              "    0% {\n",
              "      border-color: transparent;\n",
              "      border-bottom-color: var(--fill-color);\n",
              "      border-left-color: var(--fill-color);\n",
              "    }\n",
              "    20% {\n",
              "      border-color: transparent;\n",
              "      border-left-color: var(--fill-color);\n",
              "      border-top-color: var(--fill-color);\n",
              "    }\n",
              "    30% {\n",
              "      border-color: transparent;\n",
              "      border-left-color: var(--fill-color);\n",
              "      border-top-color: var(--fill-color);\n",
              "      border-right-color: var(--fill-color);\n",
              "    }\n",
              "    40% {\n",
              "      border-color: transparent;\n",
              "      border-right-color: var(--fill-color);\n",
              "      border-top-color: var(--fill-color);\n",
              "    }\n",
              "    60% {\n",
              "      border-color: transparent;\n",
              "      border-right-color: var(--fill-color);\n",
              "    }\n",
              "    80% {\n",
              "      border-color: transparent;\n",
              "      border-right-color: var(--fill-color);\n",
              "      border-bottom-color: var(--fill-color);\n",
              "    }\n",
              "    90% {\n",
              "      border-color: transparent;\n",
              "      border-bottom-color: var(--fill-color);\n",
              "    }\n",
              "  }\n",
              "</style>\n",
              "\n",
              "      <script>\n",
              "        async function quickchart(key) {\n",
              "          const quickchartButtonEl =\n",
              "            document.querySelector('#' + key + ' button');\n",
              "          quickchartButtonEl.disabled = true;  // To prevent multiple clicks.\n",
              "          quickchartButtonEl.classList.add('colab-df-spinner');\n",
              "          try {\n",
              "            const charts = await google.colab.kernel.invokeFunction(\n",
              "                'suggestCharts', [key], {});\n",
              "          } catch (error) {\n",
              "            console.error('Error during call to suggestCharts:', error);\n",
              "          }\n",
              "          quickchartButtonEl.classList.remove('colab-df-spinner');\n",
              "          quickchartButtonEl.classList.add('colab-df-quickchart-complete');\n",
              "        }\n",
              "        (() => {\n",
              "          let quickchartButtonEl =\n",
              "            document.querySelector('#df-40109d53-6376-4fc2-afde-cb81330db359 button');\n",
              "          quickchartButtonEl.style.display =\n",
              "            google.colab.kernel.accessAllowed ? 'block' : 'none';\n",
              "        })();\n",
              "      </script>\n",
              "    </div>\n",
              "\n",
              "    </div>\n",
              "  </div>\n"
            ],
            "application/vnd.google.colaboratory.intrinsic+json": {
              "type": "dataframe",
              "variable_name": "data",
              "summary": "{\n  \"name\": \"data\",\n  \"rows\": 53043,\n  \"fields\": [\n    {\n      \"column\": \"Unnamed: 0\",\n      \"properties\": {\n        \"dtype\": \"number\",\n        \"std\": 15312,\n        \"min\": 0,\n        \"max\": 53042,\n        \"num_unique_values\": 53043,\n        \"samples\": [\n          22261,\n          41400,\n          20065\n        ],\n        \"semantic_type\": \"\",\n        \"description\": \"\"\n      }\n    },\n    {\n      \"column\": \"statement\",\n      \"properties\": {\n        \"dtype\": \"string\",\n        \"num_unique_values\": 51073,\n        \"samples\": [\n          \"he's been a chain smoker for 30 years.\",\n          \"Dependence on therapist I attend IOP groups and individual therapy sessions at the same place, my therapist who I have worked with on and off for a year and a couple months just told me today that she is leaving soon and I am heartbroken. I love my therapist and I don't know how I am going to keep progressing without her. There will be a replacement for her but idk what to do, I don't want a different therapist. :(\",\n          \"These feelings constantly come back. Someone from my past that hurt me came back a month ago and once again disrespected me and i just feel like shit. Idk why these feelings keep resurfacing but it just hurts. I do not want to be over dramatic but Its hurts when you were nothing but loving/kind to someone and they disrespect you. I just hate feeling like this, feeling like i cannot trust anyone or that no one would ever truly love me unless i have something to offer. I am always worried about my looks and its just making me depressed. I really do not feel like i fit in with the world I am just here. Idk what my next step should be to get help but I am really going through it. (Yes I am in therapy) but how do i help myself ? I have been depressed/anxious for years and most day i do not even leave my house. But nobody around me seems to care and honestly I am tired of feeling this way. But at the same time i do not want to give up on myself bc i feel like I am here to be somebody great. I am just trying to find my way right now. It keeps coming back\"\n        ],\n        \"semantic_type\": \"\",\n        \"description\": \"\"\n      }\n    },\n    {\n      \"column\": \"status\",\n      \"properties\": {\n        \"dtype\": \"category\",\n        \"num_unique_values\": 7,\n        \"samples\": [\n          \"Anxiety\",\n          \"Normal\",\n          \"Bipolar\"\n        ],\n        \"semantic_type\": \"\",\n        \"description\": \"\"\n      }\n    },\n    {\n      \"column\": \"cleaned_statement\",\n      \"properties\": {\n        \"dtype\": \"string\",\n        \"num_unique_values\": 50965,\n        \"samples\": [\n          \"i miss my danish friend we met on reddit he saw my post at rselfie and came to talk to me his name was michael he said he worked in germany he was a pansexual and had some lovers he wanted me to be his loverwe were similar in personality and hit it off he could fully understand me even my slight sadness i have never met such a person in real life before we got along very well and talked about everything i trusted him he liked me he was like another soul of mine he also said that i reminded him of his past self he was always gentle and considerate just like a bandaid covering my painhowever from the beginning to the end we only knew each other for about half a month my days are numbered so i said goodbye to him ten days ago he did not respond to my message but i am not disappointed because this is his behavior stylestrangely since then i have never dared to review our chat records as if suddenly they became deserted ruins overgrown with weeds which seemed to be unreali cannot even think about how happy we used to be and occasionally i shudder at the thought those memories have sunk into the darkness and michael seems to have completely disappearedyesterday i went to talk to him again i know no one will respond to me but i am dying i just want to find a place to talk to myself however when i wrote the first message i suddenly collapsed i felt like i have returned to an abandoned home with old furniture still in place but people were gonei sat on the empty bed trembling waiting for his appearance i felt like i was writing to a ghost i expected him to hug me kiss me comfort me and stretch out a pale hand and touch me in the darkhow unreal online relationships are are all the stories of your lovers true does your voice my name written on your hand really belong to a man named michael why are you so hesitant when i want a picture of you without a beardi am weak and have a headache it is raining outside today i am going to commit suicide although i put it off the script has already been written and i cannot escape iti am tired michael hug me i miss my danish friend\",\n          \"does anyone else get this calm feeling wash over them when you look up suicide rates and other information on suicide it makes me feel happy because i think wow look at all those numbers of people who actually did it maybe i can one day too i do not know i am probably just fucked up its oddly calming\",\n          \"however this was  months ago and i have heard nothing about the referral things are going downhill not with my eating which is good  but my ptsd symptoms are loud im not sleeping my self harm has escalated and im struggling to leave my house im also just about to lose my job because the company i work for is going under\"\n        ],\n        \"semantic_type\": \"\",\n        \"description\": \"\"\n      }\n    },\n    {\n      \"column\": \"status_encoded\",\n      \"properties\": {\n        \"dtype\": \"number\",\n        \"std\": 1,\n        \"min\": 0,\n        \"max\": 6,\n        \"num_unique_values\": 7,\n        \"samples\": [\n          3,\n          0,\n          4\n        ],\n        \"semantic_type\": \"\",\n        \"description\": \"\"\n      }\n    }\n  ]\n}"
            }
          },
          "metadata": {},
          "execution_count": 7
        }
      ]
    },
    {
      "cell_type": "markdown",
      "source": [
        "##Data Tokenization"
      ],
      "metadata": {
        "id": "t6Js8vEOmm1c"
      }
    },
    {
      "cell_type": "code",
      "source": [
        "#remove stop words\n",
        "import nltk\n",
        "from nltk.corpus import stopwords\n",
        "from nltk.tokenize import word_tokenize\n",
        "nltk.download('stopwords')\n",
        "nltk.download('punkt_tab')\n",
        "stopwords = set(stopwords.words('english'))\n",
        "\n",
        "def tokenize_text(text):\n",
        "  if not isinstance(text, str):\n",
        "    text = str(text) #use to avoid runnning into issues with floating point values, convert everything to a string\n",
        "  tokens = word_tokenize(text)\n",
        "  tokens = [word for word in tokens if word not in stopwords]\n",
        "  tokens = [word for word in tokens if len(word) > 1] # filter out short tokens\n",
        "  tokens = ' '.join(tokens)\n",
        "  return tokens\n",
        "\n",
        "data['tokenized_statement'] = data['cleaned_statement'].apply(tokenize_text)"
      ],
      "metadata": {
        "colab": {
          "base_uri": "https://localhost:8080/"
        },
        "id": "d_1gBC41jmOu",
        "outputId": "f03e54ef-7e92-4607-9e77-36de8ae7279e"
      },
      "execution_count": 8,
      "outputs": [
        {
          "output_type": "stream",
          "name": "stderr",
          "text": [
            "[nltk_data] Downloading package stopwords to /root/nltk_data...\n",
            "[nltk_data]   Unzipping corpora/stopwords.zip.\n",
            "[nltk_data] Downloading package punkt_tab to /root/nltk_data...\n",
            "[nltk_data]   Unzipping tokenizers/punkt_tab.zip.\n"
          ]
        }
      ]
    },
    {
      "cell_type": "markdown",
      "source": [
        "## Data Sampling"
      ],
      "metadata": {
        "id": "KvhCqO0gmcLd"
      }
    },
    {
      "cell_type": "markdown",
      "source": [
        "Splitting into training and testing after we tokenize, but before we create the vocab,  use weighted/stratified sample to put an emphasis on less common disorders."
      ],
      "metadata": {
        "id": "R0xH2Mw5nUDs"
      }
    },
    {
      "cell_type": "code",
      "source": [
        "from sklearn.model_selection import train_test_split\n",
        "\n",
        "train_data, test_data = train_test_split(data, test_size=0.3, stratify=data['status_encoded'], random_state=1872)\n",
        "\n",
        "val_data, test_data = train_test_split(test_data, test_size=0.3, random_state=1872, stratify=test_data['status_encoded'])"
      ],
      "metadata": {
        "id": "orWtijpDnXHF"
      },
      "execution_count": 9,
      "outputs": []
    },
    {
      "cell_type": "markdown",
      "source": [
        "##Creating Vocabulary"
      ],
      "metadata": {
        "id": "OYLN_yDjvCjP"
      }
    },
    {
      "cell_type": "code",
      "source": [
        "from collections import Counter\n",
        "vocab = Counter()\n",
        "for text in train_data['tokenized_statement']:\n",
        "  for word in text.split(' '):\n",
        "    vocab[word] += 1\n",
        "\n",
        "len(vocab)"
      ],
      "metadata": {
        "colab": {
          "base_uri": "https://localhost:8080/"
        },
        "id": "7B7gkI003uVz",
        "outputId": "831ca4fd-458f-4dcb-e05a-86e7d33e079b"
      },
      "execution_count": 10,
      "outputs": [
        {
          "output_type": "execute_result",
          "data": {
            "text/plain": [
              "60399"
            ]
          },
          "metadata": {},
          "execution_count": 10
        }
      ]
    },
    {
      "cell_type": "markdown",
      "source": [
        "Our vocab contains 60399 words. We will use the most frequent 11,000, which will include roughly all words mentioned 10+ times throughout all 53,043 statements."
      ],
      "metadata": {
        "id": "1nbWDjz7ydiG"
      }
    },
    {
      "cell_type": "code",
      "source": [
        "#sorted(vocab.values(), reverse=True)[:10]"
      ],
      "metadata": {
        "id": "BBB0wm1k-IRz"
      },
      "execution_count": 11,
      "outputs": []
    },
    {
      "cell_type": "code",
      "source": [
        "k = 11000\n",
        "tokens, counts = zip(*vocab.most_common(k)) #save the vocab words and their counts as arrays\n",
        "\n",
        "special = ['<pad>', '<unk>'] #for padding zeros and handling unknown chars\n",
        "vocab_words = special + list(tokens)\n",
        "vocab_to_index = {word : index for index, word in enumerate(vocab_words)}\n",
        "index_to_vocab = {index : word for index, word in enumerate(vocab_words)}\n",
        "vocab_size = len(vocab_words)"
      ],
      "metadata": {
        "id": "YSBFiZe6wF3Q"
      },
      "execution_count": 12,
      "outputs": []
    },
    {
      "cell_type": "markdown",
      "source": [
        "## Post-processed data visualization"
      ],
      "metadata": {
        "id": "9DIlqYjZHWJm"
      }
    },
    {
      "cell_type": "code",
      "source": [
        "tokens, counts = zip(*vocab.most_common(20))\n",
        "\n",
        "plt.figure(figsize=(10,6))\n",
        "plt.barh(tokens[::-1], counts[::-1])\n",
        "plt.xlabel('Frequency')\n",
        "plt.title(f'Top {20} Word Frequencies (training set)')\n",
        "plt.tight_layout()\n",
        "plt.savefig('top20_word_freq.png', dpi=300, bbox_inches='tight')\n",
        "plt.show()"
      ],
      "metadata": {
        "colab": {
          "base_uri": "https://localhost:8080/",
          "height": 607
        },
        "id": "2kkyDO2yKM0A",
        "outputId": "bb7b094d-edbf-415d-a520-57eabcf21e63"
      },
      "execution_count": 40,
      "outputs": [
        {
          "output_type": "display_data",
          "data": {
            "text/plain": [
              "<Figure size 1000x600 with 1 Axes>"
            ],
            "image/png": "[encoded data removed]"
          },
          "metadata": {}
        }
      ]
    },
    {
      "cell_type": "code",
      "source": [
        "\n",
        "class_counts = data['status'].value_counts()\n",
        "\n",
        "plt.figure(figsize=(8, 6))\n",
        "class_counts.plot(kind='bar')\n",
        "plt.xlabel('Class')\n",
        "plt.ylabel('Count')\n",
        "plt.title('Class Distribution')\n",
        "plt.xticks(rotation=45)\n",
        "plt.tight_layout()\n",
        "plt.savefig('class_distribution.png', dpi=300, bbox_inches='tight')\n",
        "plt.show()"
      ],
      "metadata": {
        "colab": {
          "base_uri": "https://localhost:8080/",
          "height": 607
        },
        "id": "xBOqQafAHaGU",
        "outputId": "81da2625-70a2-4d90-97c1-f7ea22b7408c"
      },
      "execution_count": 41,
      "outputs": [
        {
          "output_type": "display_data",
          "data": {
            "text/plain": [
              "<Figure size 800x600 with 1 Axes>"
            ],
            "image/png": "[encoded data removed]"
          },
          "metadata": {}
        }
      ]
    },
    {
      "cell_type": "markdown",
      "source": [
        "# Using Pretrained word embeddings, GloVe"
      ],
      "metadata": {
        "id": "G7M0uKZtLA0j"
      }
    },
    {
      "cell_type": "markdown",
      "source": [
        "We will use a GloVe file from Stanford that is pre-trained using twitter data, which should be analagous to the statements we are trying to analyze. You can find this file, and other pre-trained embeddings here: https://nlp.stanford.edu/projects/glove/\n",
        "\n",
        "Make sure you download and upload the file to this notebook before use.\n",
        "\n",
        "This next cell will create our embedding dictionary that will correspond our vocab to a real number vector of size 100. This will be used to create the embedding layer so we can begin creating our CNN."
      ],
      "metadata": {
        "id": "7Xj8bmeZQFDh"
      }
    },
    {
      "cell_type": "code",
      "source": [
        "glove_path = \"/content/drive/MyDrive/STAT4744_Final/glove.twitter.27B.100d.txt\"\n",
        "\n",
        "glove_dict = {}\n",
        "\n",
        "with open(glove_path, 'r', encoding='utf8') as f:\n",
        "    for line in f:\n",
        "        parts = line.rstrip().split(' ')\n",
        "        word = parts[0]\n",
        "        vec  = np.asarray(parts[1:], dtype='float32')\n",
        "        glove_dict[word] = vec\n",
        "embedding_dim = len(next(iter(glove_dict.values())))"
      ],
      "metadata": {
        "id": "t3R_9NpUNGsS"
      },
      "execution_count": 13,
      "outputs": []
    },
    {
      "cell_type": "markdown",
      "source": [
        "Creating embeddding matrix and ensuring pad 0's and unknown 1's are set. We will also zero out the padding vector.\n",
        "\n"
      ],
      "metadata": {
        "id": "hGRj6fDCY-Ud"
      }
    },
    {
      "cell_type": "code",
      "source": [
        "#create embedding matrix, given the vocab dictionary, glove dictionary, and embedding vector size\n",
        "def make_embedding_matrix(vocab_to_index, glove_dict, embedding_dim):\n",
        "  embedding_mat = np.random.uniform(-.25, .25, size = (vocab_size, embedding_dim))\n",
        "  embedding_mat[0] = np.zeros(embedding_dim)\n",
        "\n",
        "  for word, index in vocab_to_index.items():\n",
        "    if word in glove_dict:\n",
        "      embedding_mat[index] = glove_dict[word]\n",
        "    else:\n",
        "      continue #keep the random uniform vector if unk\n",
        "\n",
        "  return embedding_mat\n",
        "\n",
        "embedding_mat = make_embedding_matrix(vocab_to_index, glove_dict, embedding_dim)"
      ],
      "metadata": {
        "id": "pWW9PtrSUWG5"
      },
      "execution_count": 14,
      "outputs": []
    },
    {
      "cell_type": "markdown",
      "source": [
        "now that we have established the embedding matrix, the last thing we need to do is tranform our tokenized statements into a rectangular matrix. We will make an encoding function using our dictionary to translate words to integers. Statements longer than 100 words will be cut short, where as shorter statements will be padded with zeros."
      ],
      "metadata": {
        "id": "m-jGOCWXr4_Y"
      }
    },
    {
      "cell_type": "code",
      "source": [
        "def encode(tokens, vocab_to_index, embedding_dim):\n",
        "  tokens = tokens.split(' ')\n",
        "  indices = [vocab_to_index[token] if token in vocab_to_index else 1 for token in tokens]\n",
        "  indices = indices[:embedding_dim]\n",
        "  if len(indices) < embedding_dim:\n",
        "    indices += [0] * (embedding_dim - len(indices))\n",
        "  return indices\n",
        ""
      ],
      "metadata": {
        "id": "RL1607qH9MXi"
      },
      "execution_count": 15,
      "outputs": []
    },
    {
      "cell_type": "markdown",
      "source": [
        "We can encode our text, and then define and X matrix and y vector to be used in our model from our training dataset. We also need to transform these X and y arrays to tensors."
      ],
      "metadata": {
        "id": "eS270eXZB87V"
      }
    },
    {
      "cell_type": "code",
      "source": [
        "train_data['token_ids'] = train_data['tokenized_statement'].apply(lambda x: encode(x, vocab_to_index, embedding_dim))\n",
        "val_data['token_ids'] = val_data['tokenized_statement'].apply(lambda x: encode(x, vocab_to_index, embedding_dim))\n",
        "test_data['token_ids'] = test_data['tokenized_statement'].apply(lambda x: encode(x, vocab_to_index, embedding_dim))\n",
        "\n",
        "X_train = np.stack(train_data['token_ids'].values)\n",
        "y_train = train_data['status_encoded'].values\n",
        "\n",
        "X_val = np.stack(val_data['token_ids'].values)\n",
        "y_val = val_data['status_encoded'].values\n",
        "\n",
        "X_test = np.stack(test_data['token_ids'].values)\n",
        "y_test = test_data['status_encoded'].values\n",
        "\n",
        "X_train.shape, y_train.shape\n",
        "\n",
        "X_train_tensor = torch.tensor(X_train, dtype=torch.long)\n",
        "y_train_tensor = torch.tensor(y_train, dtype=torch.long)\n",
        "\n",
        "X_val_tensor = torch.tensor(X_val, dtype=torch.long)\n",
        "y_val_tensor = torch.tensor(y_val, dtype=torch.long)\n",
        "\n",
        "X_test_tensor = torch.tensor(X_test, dtype=torch.long)\n",
        "y_test_tensor = torch.tensor(y_test, dtype=torch.long)"
      ],
      "metadata": {
        "id": "FgL8Oll0ANK-"
      },
      "execution_count": 16,
      "outputs": []
    },
    {
      "cell_type": "markdown",
      "source": [
        "###Dataloaders\n",
        "\n",
        "creating dataloaders for the model from tensors"
      ],
      "metadata": {
        "id": "du07o6a9zODV"
      }
    },
    {
      "cell_type": "code",
      "source": [
        "test_iter = DataLoader(TensorDataset(X_test_tensor, y_test_tensor), batch_size=64, shuffle=False)\n",
        "val_iter = DataLoader(TensorDataset(X_val_tensor, y_val_tensor), batch_size=64, shuffle=False)\n",
        "train_iter = DataLoader(TensorDataset(X_train_tensor, y_train_tensor), batch_size=64, shuffle=False)\n"
      ],
      "metadata": {
        "id": "rD2f5lLCzTEW"
      },
      "execution_count": 17,
      "outputs": []
    },
    {
      "cell_type": "markdown",
      "source": [
        "Creating the embedding layer using the matrix."
      ],
      "metadata": {
        "id": "gGgoMRxpTZYD"
      }
    },
    {
      "cell_type": "code",
      "source": [
        "embedding_layer = nn.Embedding.from_pretrained(torch.tensor(embedding_mat, dtype = torch.float32), freeze=False, padding_idx=0)"
      ],
      "metadata": {
        "id": "h-fmhXqwZltU"
      },
      "execution_count": 18,
      "outputs": []
    },
    {
      "cell_type": "code",
      "source": [],
      "metadata": {
        "id": "ZUv6FzkDwEn_"
      },
      "execution_count": 18,
      "outputs": []
    },
    {
      "cell_type": "markdown",
      "source": [
        "source for batch-norm; pmlr-v37-ioffe15"
      ],
      "metadata": {
        "id": "7RBSebjHnTIX"
      }
    },
    {
      "cell_type": "markdown",
      "source": [
        "# Defining CNN architecture"
      ],
      "metadata": {
        "id": "tLuGadfL0nN9"
      }
    },
    {
      "cell_type": "code",
      "source": [
        "class TextCNN(nn.Module):\n",
        "  def __init__(self, embedding_layer, num_classes = 7, dropout = 0.2):\n",
        "    super(TextCNN, self).__init__()\n",
        "    self.embedding = embedding_layer\n",
        "    max_len = embedding_layer.embedding_dim\n",
        "\n",
        "    self.conv1 = nn.Conv1d(max_len, 16, kernel_size=3, stride=1, padding = 0)\n",
        "    self.bn1 = nn.BatchNorm1d(16) #cite from above\n",
        "    self.pool1 = nn.MaxPool1d(kernel_size=2, stride=2)\n",
        "\n",
        "    self.conv2 = nn.Conv1d(16, 32, kernel_size=3, stride=1, padding = 0)\n",
        "    self.bn2 = nn.BatchNorm1d(32)\n",
        "    self.pool2 = nn.MaxPool1d(kernel_size=2, stride=2)\n",
        "\n",
        "    self.dropout = nn.Dropout(dropout)\n",
        "\n",
        "    #used chat gpt to help calculate tensor sizes\n",
        "    self.fc1 = nn.Linear(32 * 23, 128)\n",
        "    self.fc2 = nn.Linear(128, num_classes)\n",
        "\n",
        "  def forward(self, x):\n",
        "\n",
        "    x = self.embedding(x.long())   # B, max_len, E\n",
        "    x = x.transpose(1, 2)\n",
        "\n",
        "    # Conv block 1\n",
        "    x = self.conv1(x)\n",
        "    x = self.bn1(x)\n",
        "    x = F.relu(x)\n",
        "    x = self.pool1(x)\n",
        "    x = self.dropout(x)\n",
        "\n",
        "    # Conv block 2\n",
        "    x = self.conv2(x)\n",
        "    x = self.bn2(x)\n",
        "    x = F.relu(x)\n",
        "    x = self.pool2(x)\n",
        "    x = self.dropout(x)\n",
        "\n",
        "    # Flatten\n",
        "    x = x.view(x.size(0), -1)\n",
        "\n",
        "    # Fully connected\n",
        "    x = self.fc1(x)\n",
        "    x = F.relu(x)\n",
        "    x = self.fc2(x)\n",
        "\n",
        "    # Return probabilities\n",
        "    return F.softmax(x, dim=1)"
      ],
      "metadata": {
        "id": "-Vho0eDhvufg"
      },
      "execution_count": 19,
      "outputs": []
    },
    {
      "cell_type": "markdown",
      "source": [
        "## Training function for CNN (with graphing)\n",
        "Training function, mostly copied from hW3, with adjustments made to track validation loss, added early stopping, and handling the matrix of data."
      ],
      "metadata": {
        "id": "ZyubfU9ZoRp-"
      }
    },
    {
      "cell_type": "code",
      "source": [
        "def train(train_iter, val_iter, net, optimizer, device, num_epochs = 50, patience = 5):\n",
        "    net = net.to(device)\n",
        "    print(\"training on\", device)\n",
        "    # Cross entropy\n",
        "    counts = Counter(y_train_tensor.tolist())\n",
        "    total = sum(counts.values())\n",
        "    print(counts)\n",
        "    class_weights = torch.tensor([total/counts[i] for i in range(7)],\n",
        "                             dtype=torch.float32, device=device)\n",
        "    loss = torch.nn.CrossEntropyLoss(weight=class_weights)\n",
        "    batch_count = 0\n",
        "\n",
        "    #for keeping track of training metadata\n",
        "    train_losses = []\n",
        "    train_accs = []\n",
        "    val_accs = []\n",
        "    val_losses = []\n",
        "    epoch_times = []\n",
        "\n",
        "    #for early stopping\n",
        "    epoch_not_improved_in = 0\n",
        "    min_val_loss = float('inf')\n",
        "\n",
        "    for epoch in range(num_epochs):\n",
        "        train_l_sum, train_acc_sum, n, start = 0.0, 0.0, 0, time.time()\n",
        "        net.train()\n",
        "        for  X, y in tqdm(train_iter, desc=f\"Epoch {epoch+1}/{num_epochs}\"):\n",
        "          #input attributes and tags\n",
        "          X = X.long().to(device)\n",
        "          y = y.long().to(device)\n",
        "\n",
        "          #forecast, then calculate loss\n",
        "          y_hat = net(X)\n",
        "          l = loss(y_hat, y)\n",
        "          optimizer.zero_grad()\n",
        "          l.backward()\n",
        "          optimizer.step()\n",
        "\n",
        "          train_l_sum += l.cpu().item() * X.size(0)\n",
        "          train_acc_sum += (y_hat.argmax(dim=1) == y).sum().cpu().item()\n",
        "          n += y.size(0)\n",
        "          batch_count += 1\n",
        "\n",
        "        epoch_loss = train_l_sum / n #might need to make this len(train_iter)\n",
        "        epoch_acc = train_acc_sum / n\n",
        "        train_losses.append(epoch_loss)\n",
        "        train_accs.append(epoch_acc)\n",
        "        epoch_times.append(time.time()-start)\n",
        "        print(f\"Epoch {epoch+1}, Loss: {epoch_loss:.4f}, Train Accuracy: {epoch_acc:.3f}, Time: {time.time()-start:.2f} sec\")\n",
        "\n",
        "        #evaluate on the validation set, some differences between two models. First place to search for errors should be here\n",
        "        net.eval()\n",
        "        val_loss, val_acc_sum, val_total = 0.0, 0, 0\n",
        "\n",
        "        with torch.no_grad():\n",
        "          for X, y in val_iter:\n",
        "            X = X.long().to(device)\n",
        "            y = y.long().to(device)\n",
        "            y_hat = net(X)\n",
        "            l = loss(y_hat, y)\n",
        "\n",
        "            val_loss += l.cpu().item() * X.size(0)\n",
        "            val_acc_sum += (y_hat.argmax(dim=1) == y).sum().cpu().item()\n",
        "            val_total += y.size(0)\n",
        "        val_loss = val_loss / val_total\n",
        "        val_acc = val_acc_sum / val_total\n",
        "        val_losses.append(val_loss)\n",
        "        val_accs.append(val_acc)\n",
        "        print(f'Epoch {epoch+1}/{num_epochs} — '\n",
        "              f'Val Loss: {val_loss:.4f}, Val Acc: {val_acc:.4f}')\n",
        "\n",
        "        #implenting early stopping\n",
        "        if val_loss < min_val_loss:\n",
        "          min_val_loss = val_loss\n",
        "          epcoh_not_improved_in = 0\n",
        "        else:\n",
        "          epoch_not_improved_in += 1\n",
        "        if epoch_not_improved_in >= patience:\n",
        "          print(f'Early stopping at epoch {epoch+1}')\n",
        "          break\n",
        "\n",
        "    epochs = range(1, len(train_losses) + 1)\n",
        "    print('epochs: ', epochs)\n",
        "    print('train_losses: ', train_losses)\n",
        "    print('train_accs: ', train_accs)\n",
        "    print('val_losses: ', val_losses)\n",
        "    print('val_accs: ', val_accs)\n",
        "    plt.figure(figsize=(10, 8))\n",
        "\n",
        "    plt.subplot(1, 2, 1)\n",
        "    plt.plot(epochs, train_losses, 'o-', label='Train Loss')\n",
        "    plt.plot(epochs, val_losses,   'o-', label='Val Loss')\n",
        "    plt.xlabel('Epoch')\n",
        "    plt.ylabel('Loss')\n",
        "    plt.title(\"Training and Validation Loss vs. Epoch\")\n",
        "    plt.legend()\n",
        "\n",
        "    plt.subplot(1, 2, 2)\n",
        "    plt.plot(epochs, train_accs, marker='o', label=\"Train Acc\")\n",
        "    plt.plot(epochs, val_accs, marker='o', label=\"Val Acc\")\n",
        "    plt.xlabel(\"Epoch\")\n",
        "    plt.ylabel(\"Accuracy\")\n",
        "    plt.title(\"Train and Validation Accuracy vs. Epoch\")\n",
        "    plt.legend()\n",
        "\n",
        "    plt.tight_layout()\n",
        "    plt.savefig('loss_acc_graph.png', dpi=300, bbox_inches='tight')\n",
        "    plt.show()\n",
        "    print(\"Final Validation Accuracy:\", val_accs[-1])\n",
        "\n",
        "    return train_losses, train_accs, val_losses, val_accs, epoch_times"
      ],
      "metadata": {
        "id": "zssypKFTadpQ"
      },
      "execution_count": 70,
      "outputs": []
    },
    {
      "cell_type": "markdown",
      "source": [
        "##Evaluate accuracy function"
      ],
      "metadata": {
        "id": "pMeLPLCdondb"
      }
    },
    {
      "cell_type": "code",
      "source": [
        "def evaluate_accuracy(data_iter, net, device = None):\n",
        "  if device is None and isinstance(net, torch.nn.Module):\n",
        "    device = list(net.parameters())[0].device\n",
        "  acc_sum, n = 0.0, 0\n",
        "  with torch.no_grad():\n",
        "    for X, y in data_iter:\n",
        "      if isinstance(net, torch.nn.Module):\n",
        "        net.eval()\n",
        "        acc_sum += (net(X.to(device)).argmax(dim=1) == y.to(device)).float().sum().cpu().item()\n",
        "        net.train()\n",
        "      else:\n",
        "        if ('is_training' in net.__code__.co_varnames):\n",
        "          acc_sum += (net(X, is_training=False).argmax(dim=1) == y).float().sum().item()\n",
        "        else:\n",
        "          acc_sum += (net(X).argmax(dim=1) == y).float().sum().item()\n",
        "      n += y.shape[0]\n",
        "  return acc_sum / n"
      ],
      "metadata": {
        "id": "HExax1NrowE0"
      },
      "execution_count": 21,
      "outputs": []
    },
    {
      "cell_type": "code",
      "source": [
        "lr = 0.001\n",
        "device = torch.device('cuda' if torch.cuda.is_available() else 'cpu')\n",
        "embedding_layer = nn.Embedding.from_pretrained(torch.tensor(embedding_mat, dtype = torch.float32), freeze=False, padding_idx=0)\n",
        "\n",
        "net = TextCNN(embedding_layer)\n",
        "optimizer = torch.optim.Adam(net.parameters(), lr=lr)\n",
        "CNN_train_losses, CNN_train_accs, CNN_val_losses, CNN_val_accs, CNN_epoch_times = train(train_iter, val_iter, net, optimizer, device)"
      ],
      "metadata": {
        "colab": {
          "base_uri": "https://localhost:8080/",
          "height": 1000
        },
        "id": "RLFKADSNppDz",
        "outputId": "f805db51-6ca6-4d06-f670-e186f9a58957"
      },
      "execution_count": 77,
      "outputs": [
        {
          "output_type": "stream",
          "name": "stdout",
          "text": [
            "training on cuda\n",
            "Counter({0: 11446, 1: 10783, 2: 7457, 3: 2721, 4: 2014, 5: 1868, 6: 841})\n"
          ]
        },
        {
          "output_type": "stream",
          "name": "stderr",
          "text": [
            "Epoch 1/50: 100%|██████████| 581/581 [00:02<00:00, 241.38it/s]\n"
          ]
        },
        {
          "output_type": "stream",
          "name": "stdout",
          "text": [
            "Epoch 1, Loss: 1.6856, Train Accuracy: 0.547, Time: 2.41 sec\n",
            "Epoch 1/50 — Val Loss: 1.5782, Val Acc: 0.6522\n"
          ]
        },
        {
          "output_type": "stream",
          "name": "stderr",
          "text": [
            "Epoch 2/50: 100%|██████████| 581/581 [00:02<00:00, 220.76it/s]\n"
          ]
        },
        {
          "output_type": "stream",
          "name": "stdout",
          "text": [
            "Epoch 2, Loss: 1.5590, Train Accuracy: 0.668, Time: 2.64 sec\n",
            "Epoch 2/50 — Val Loss: 1.5475, Val Acc: 0.6724\n"
          ]
        },
        {
          "output_type": "stream",
          "name": "stderr",
          "text": [
            "Epoch 3/50: 100%|██████████| 581/581 [00:02<00:00, 213.48it/s]\n"
          ]
        },
        {
          "output_type": "stream",
          "name": "stdout",
          "text": [
            "Epoch 3, Loss: 1.5094, Train Accuracy: 0.698, Time: 2.73 sec\n",
            "Epoch 3/50 — Val Loss: 1.4939, Val Acc: 0.7052\n"
          ]
        },
        {
          "output_type": "stream",
          "name": "stderr",
          "text": [
            "Epoch 4/50: 100%|██████████| 581/581 [00:02<00:00, 243.81it/s]\n"
          ]
        },
        {
          "output_type": "stream",
          "name": "stdout",
          "text": [
            "Epoch 4, Loss: 1.4597, Train Accuracy: 0.715, Time: 2.39 sec\n",
            "Epoch 4/50 — Val Loss: 1.4902, Val Acc: 0.6739\n"
          ]
        },
        {
          "output_type": "stream",
          "name": "stderr",
          "text": [
            "Epoch 5/50: 100%|██████████| 581/581 [00:02<00:00, 245.16it/s]\n"
          ]
        },
        {
          "output_type": "stream",
          "name": "stdout",
          "text": [
            "Epoch 5, Loss: 1.4280, Train Accuracy: 0.732, Time: 2.37 sec\n",
            "Epoch 5/50 — Val Loss: 1.4613, Val Acc: 0.7031\n"
          ]
        },
        {
          "output_type": "stream",
          "name": "stderr",
          "text": [
            "Epoch 6/50: 100%|██████████| 581/581 [00:02<00:00, 246.04it/s]\n"
          ]
        },
        {
          "output_type": "stream",
          "name": "stdout",
          "text": [
            "Epoch 6, Loss: 1.4096, Train Accuracy: 0.744, Time: 2.36 sec\n",
            "Epoch 6/50 — Val Loss: 1.4578, Val Acc: 0.6865\n"
          ]
        },
        {
          "output_type": "stream",
          "name": "stderr",
          "text": [
            "Epoch 7/50: 100%|██████████| 581/581 [00:02<00:00, 204.76it/s]\n"
          ]
        },
        {
          "output_type": "stream",
          "name": "stdout",
          "text": [
            "Epoch 7, Loss: 1.3915, Train Accuracy: 0.755, Time: 2.84 sec\n",
            "Epoch 7/50 — Val Loss: 1.4562, Val Acc: 0.6900\n"
          ]
        },
        {
          "output_type": "stream",
          "name": "stderr",
          "text": [
            "Epoch 8/50: 100%|██████████| 581/581 [00:02<00:00, 233.08it/s]\n"
          ]
        },
        {
          "output_type": "stream",
          "name": "stdout",
          "text": [
            "Epoch 8, Loss: 1.3817, Train Accuracy: 0.762, Time: 2.50 sec\n",
            "Epoch 8/50 — Val Loss: 1.4471, Val Acc: 0.7111\n"
          ]
        },
        {
          "output_type": "stream",
          "name": "stderr",
          "text": [
            "Epoch 9/50: 100%|██████████| 581/581 [00:02<00:00, 249.13it/s]\n"
          ]
        },
        {
          "output_type": "stream",
          "name": "stdout",
          "text": [
            "Epoch 9, Loss: 1.3716, Train Accuracy: 0.771, Time: 2.34 sec\n",
            "Epoch 9/50 — Val Loss: 1.4439, Val Acc: 0.6998\n"
          ]
        },
        {
          "output_type": "stream",
          "name": "stderr",
          "text": [
            "Epoch 10/50: 100%|██████████| 581/581 [00:02<00:00, 241.50it/s]\n"
          ]
        },
        {
          "output_type": "stream",
          "name": "stdout",
          "text": [
            "Epoch 10, Loss: 1.3657, Train Accuracy: 0.777, Time: 2.41 sec\n",
            "Epoch 10/50 — Val Loss: 1.4516, Val Acc: 0.6955\n"
          ]
        },
        {
          "output_type": "stream",
          "name": "stderr",
          "text": [
            "Epoch 11/50: 100%|██████████| 581/581 [00:02<00:00, 251.13it/s]\n"
          ]
        },
        {
          "output_type": "stream",
          "name": "stdout",
          "text": [
            "Epoch 11, Loss: 1.3609, Train Accuracy: 0.780, Time: 2.32 sec\n",
            "Epoch 11/50 — Val Loss: 1.4452, Val Acc: 0.6966\n"
          ]
        },
        {
          "output_type": "stream",
          "name": "stderr",
          "text": [
            "Epoch 12/50: 100%|██████████| 581/581 [00:03<00:00, 193.05it/s]\n"
          ]
        },
        {
          "output_type": "stream",
          "name": "stdout",
          "text": [
            "Epoch 12, Loss: 1.3577, Train Accuracy: 0.785, Time: 3.01 sec\n",
            "Epoch 12/50 — Val Loss: 1.4464, Val Acc: 0.7098\n"
          ]
        },
        {
          "output_type": "stream",
          "name": "stderr",
          "text": [
            "Epoch 13/50: 100%|██████████| 581/581 [00:02<00:00, 246.94it/s]\n"
          ]
        },
        {
          "output_type": "stream",
          "name": "stdout",
          "text": [
            "Epoch 13, Loss: 1.3546, Train Accuracy: 0.790, Time: 2.36 sec\n",
            "Epoch 13/50 — Val Loss: 1.4437, Val Acc: 0.7059\n"
          ]
        },
        {
          "output_type": "stream",
          "name": "stderr",
          "text": [
            "Epoch 14/50: 100%|██████████| 581/581 [00:02<00:00, 234.21it/s]\n"
          ]
        },
        {
          "output_type": "stream",
          "name": "stdout",
          "text": [
            "Epoch 14, Loss: 1.3476, Train Accuracy: 0.795, Time: 2.48 sec\n",
            "Epoch 14/50 — Val Loss: 1.4413, Val Acc: 0.7056\n"
          ]
        },
        {
          "output_type": "stream",
          "name": "stderr",
          "text": [
            "Epoch 15/50: 100%|██████████| 581/581 [00:02<00:00, 246.18it/s]\n"
          ]
        },
        {
          "output_type": "stream",
          "name": "stdout",
          "text": [
            "Epoch 15, Loss: 1.3435, Train Accuracy: 0.795, Time: 2.36 sec\n",
            "Epoch 15/50 — Val Loss: 1.4423, Val Acc: 0.7180\n"
          ]
        },
        {
          "output_type": "stream",
          "name": "stderr",
          "text": [
            "Epoch 16/50: 100%|██████████| 581/581 [00:02<00:00, 221.50it/s]\n"
          ]
        },
        {
          "output_type": "stream",
          "name": "stdout",
          "text": [
            "Epoch 16, Loss: 1.3374, Train Accuracy: 0.803, Time: 2.63 sec\n",
            "Epoch 16/50 — Val Loss: 1.4455, Val Acc: 0.7190\n",
            "Early stopping at epoch 16\n",
            "epochs:  range(1, 17)\n",
            "train_losses:  [1.6855896980653964, 1.5590348297522905, 1.5093567224580131, 1.4597497032300628, 1.4280119173551806, 1.409563979093129, 1.3914906926210313, 1.381720143709098, 1.3716020622761975, 1.3656795611960721, 1.3608951246452692, 1.357657550410572, 1.3545861449486927, 1.3476337626716888, 1.3435210533935749, 1.3373737255453968]\n",
            "train_accs:  [0.5474818206302181, 0.6683274979800701, 0.6980608672232695, 0.7152168058173983, 0.7324266092108807, 0.7444384594667385, 0.754915162941018, 0.7622946404524643, 0.7712900619445192, 0.7773498518718017, 0.7800969566388365, 0.7852679773767842, 0.7901696741179639, 0.7948289792620522, 0.7952868300565581, 0.8026663075680043]\n",
            "val_losses:  [1.57818281242798, 1.5475246443634176, 1.4938787827212225, 1.4902465591226042, 1.4613324160935024, 1.4578341971887208, 1.4561720590144516, 1.4470559474606202, 1.4438908896997165, 1.4516251721601745, 1.4451815963422858, 1.4464457524572993, 1.4436970558657938, 1.4413359019644802, 1.4423228608544163, 1.4455278127601625]\n",
            "val_accs:  [0.652212945506778, 0.6724122452643864, 0.7051799982045067, 0.6739384145794057, 0.7031151808959512, 0.6865068677619176, 0.6900080797199031, 0.7111051261334052, 0.6997935182691445, 0.6954843343208547, 0.6965616303079271, 0.7097585061495646, 0.7058981955292216, 0.7056288715324536, 0.7180177753837867, 0.7190052967052698]\n"
          ]
        },
        {
          "output_type": "display_data",
          "data": {
            "text/plain": [
              "<Figure size 1000x800 with 2 Axes>"
            ],
            "image/png": "[encoded data removed]"
          },
          "metadata": {}
        },
        {
          "output_type": "stream",
          "name": "stdout",
          "text": [
            "Final Validation Accuracy: 0.7190052967052698\n"
          ]
        }
      ]
    },
    {
      "cell_type": "code",
      "source": [
        "test_acc = evaluate_accuracy(test_iter, net, device)\n",
        "print(f'Test Accuracy: {test_acc:.4f}')"
      ],
      "metadata": {
        "colab": {
          "base_uri": "https://localhost:8080/"
        },
        "id": "68x8J3x97rym",
        "outputId": "831c8a9b-bea4-421e-de6b-86ea97bf37bd"
      },
      "execution_count": 79,
      "outputs": [
        {
          "output_type": "stream",
          "name": "stdout",
          "text": [
            "Test Accuracy: 0.7344\n"
          ]
        }
      ]
    },
    {
      "cell_type": "markdown",
      "source": [
        "## Confusion matrix"
      ],
      "metadata": {
        "id": "cY0xEukIVyZd"
      }
    },
    {
      "cell_type": "code",
      "source": [
        "from sklearn.metrics import confusion_matrix\n",
        "class_names = list(data['status'].unique())\n",
        "net.eval()\n",
        "all_preds = []\n",
        "all_labels = []\n",
        "\n",
        "with torch.no_grad():\n",
        "    for X, y in test_iter:\n",
        "        X = X.long().to(device)\n",
        "        y = y.long().to(device)\n",
        "        preds = net(X).argmax(dim=1).cpu().numpy()\n",
        "        labels = y.cpu().numpy()\n",
        "        all_preds.extend(preds)\n",
        "        all_labels.extend(labels)\n",
        "\n",
        "# Compute the confusion matrix\n",
        "cm = confusion_matrix(all_labels, all_preds)\n",
        "\n",
        "# Plot the confusion matrix\n",
        "plt.figure(figsize=(8, 6))\n",
        "sns.heatmap(cm, annot=True, fmt='d', cmap='Blues',\n",
        "            xticklabels=class_names, yticklabels=class_names)\n",
        "plt.xlabel('Predicted Label')\n",
        "plt.ylabel('True Label')\n",
        "plt.title('Confusion Matrix on Test Set')\n",
        "plt.tight_layout()\n",
        "plt.savefig('confusion_matrix.png', dpi=300, bbox_inches='tight')\n",
        "plt.show()"
      ],
      "metadata": {
        "colab": {
          "base_uri": "https://localhost:8080/",
          "height": 607
        },
        "id": "_Y8SosrN8LZQ",
        "outputId": "94d00070-99a3-49a8-8454-64cc6c282a12"
      },
      "execution_count": 80,
      "outputs": [
        {
          "output_type": "display_data",
          "data": {
            "text/plain": [
              "<Figure size 800x600 with 2 Axes>"
            ],
            "image/png": "[encoded data removed]"
          },
          "metadata": {}
        }
      ]
    },
    {
      "cell_type": "code",
      "source": [
        "list(class_names)"
      ],
      "metadata": {
        "colab": {
          "base_uri": "https://localhost:8080/"
        },
        "id": "V6gaIRcKV-JX",
        "outputId": "f76efd86-b9d4-4725-b56f-3b12c3dc3d61"
      },
      "execution_count": 49,
      "outputs": [
        {
          "output_type": "execute_result",
          "data": {
            "text/plain": [
              "['Anxiety',\n",
              " 'Normal',\n",
              " 'Depression',\n",
              " 'Suicidal',\n",
              " 'Stress',\n",
              " 'Bipolar',\n",
              " 'Personality disorder']"
            ]
          },
          "metadata": {},
          "execution_count": 49
        }
      ]
    },
    {
      "cell_type": "code",
      "source": [
        "from sklearn.metrics import classification_report\n",
        "print(classification_report(all_labels, all_preds,\n",
        "      target_names=class_names, zero_division=0))"
      ],
      "metadata": {
        "colab": {
          "base_uri": "https://localhost:8080/"
        },
        "id": "MWtdV6ZsV_0U",
        "outputId": "fd047ebe-9397-41d2-d553-f1963b669a53"
      },
      "execution_count": 81,
      "outputs": [
        {
          "output_type": "stream",
          "name": "stdout",
          "text": [
            "                      precision    recall  f1-score   support\n",
            "\n",
            "             Anxiety       0.91      0.87      0.89      1472\n",
            "              Normal       0.76      0.61      0.68      1386\n",
            "          Depression       0.63      0.71      0.67       959\n",
            "            Suicidal       0.71      0.83      0.76       350\n",
            "              Stress       0.78      0.70      0.74       259\n",
            "             Bipolar       0.46      0.63      0.53       240\n",
            "Personality disorder       0.37      0.75      0.49       108\n",
            "\n",
            "            accuracy                           0.73      4774\n",
            "           macro avg       0.66      0.73      0.68      4774\n",
            "        weighted avg       0.76      0.73      0.74      4774\n",
            "\n"
          ]
        }
      ]
    },
    {
      "cell_type": "code",
      "source": [
        "report_dict = classification_report(\n",
        "    all_labels, all_preds,\n",
        "    target_names=class_names,\n",
        "    output_dict=True\n",
        ")\n",
        "df = pd.DataFrame(report_dict).transpose()\n",
        "\n",
        "# save to CSV\n",
        "df.to_csv('classification_report.csv', float_format='%.4f')\n",
        "\n",
        "with open('report_table.tex', 'w') as f:\n",
        "    f.write(df.to_latex(\n",
        "        caption=\"Classification Report\",\n",
        "        label=\"tab:class-report\",\n",
        "        float_format=\"%.2f\",\n",
        "        header=True,\n",
        "        index=True,\n",
        "        bold_rows=True\n",
        "    ))"
      ],
      "metadata": {
        "id": "EyRB2i_waDXa"
      },
      "execution_count": 83,
      "outputs": []
    }
  ]
}